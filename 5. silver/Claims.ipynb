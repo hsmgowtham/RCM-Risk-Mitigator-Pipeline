{
 "cells": [
  {
   "cell_type": "code",
   "execution_count": 0,
   "metadata": {
    "application/vnd.databricks.v1+cell": {
     "cellMetadata": {
      "byteLimit": 2048000,
      "rowLimit": 10000
     },
     "inputWidgets": {},
     "nuid": "b153e87d-5a1b-4582-8c91-8efbb152d51d",
     "showTitle": false,
     "tableResultSettingsMap": {},
     "title": ""
    }
   },
   "outputs": [],
   "source": [
    "\n",
    "claims_df=spark.read.parquet(\"/mnt/bronze/claims/\")\n",
    "\n",
    "\n",
    "display(claims_df)\n",
    "\n",
    "\n",
    "claims_df.createOrReplaceTempView(\"claims\")\n",
    "\n"
   ]
  },
  {
   "cell_type": "code",
   "execution_count": 0,
   "metadata": {
    "application/vnd.databricks.v1+cell": {
     "cellMetadata": {
      "byteLimit": 2048000,
      "implicitDf": true,
      "rowLimit": 10000
     },
     "inputWidgets": {},
     "nuid": "e22b3524-40a0-4426-83cc-f1721f6abf18",
     "showTitle": false,
     "tableResultSettingsMap": {},
     "title": ""
    }
   },
   "outputs": [],
   "source": [
    "%sql\n",
    "\n",
    "CREATE OR REPLACE TEMP VIEW quality_checks AS\n",
    "SELECT \n",
    " CONCAT(ClaimID,'-', datasource) AS ClaimID,\n",
    "ClaimID AS  SRC_ClaimID,\n",
    "TransactionID,\n",
    "PatientID,\n",
    "EncounterID,\n",
    "ProviderID,\n",
    "DeptID,\n",
    "cast(ServiceDate as date) ServiceDate,\n",
    "cast(ClaimDate as date) ClaimDate,\n",
    "PayorID,\n",
    "ClaimAmount,\n",
    "PaidAmount,\n",
    "ClaimStatus,\n",
    "PayorType,\n",
    "Deductible,\n",
    "Coinsurance,\n",
    "Copay,\n",
    "cast(InsertDate as date) as SRC_InsertDate,\n",
    "cast(ModifiedDate as date) as SRC_ModifiedDate,\n",
    "datasource,\n",
    "    CASE \n",
    "        WHEN ClaimID IS NULL OR TransactionID IS NULL OR PatientID IS NULL or ServiceDate IS NULL THEN TRUE\n",
    "        ELSE FALSE\n",
    "    END AS is_quarantined\n",
    "FROM claims\n",
    "\n"
   ]
  },
  {
   "cell_type": "code",
   "execution_count": 0,
   "metadata": {
    "application/vnd.databricks.v1+cell": {
     "cellMetadata": {
      "byteLimit": 2048000,
      "implicitDf": true,
      "rowLimit": 10000
     },
     "inputWidgets": {},
     "nuid": "4325a81c-d8b5-4f76-b979-e9d5a58b3a6e",
     "showTitle": false,
     "tableResultSettingsMap": {},
     "title": ""
    }
   },
   "outputs": [],
   "source": [
    "%sql\n",
    "\n",
    "select * from quality_checks\n"
   ]
  },
  {
   "cell_type": "code",
   "execution_count": 0,
   "metadata": {
    "application/vnd.databricks.v1+cell": {
     "cellMetadata": {
      "byteLimit": 2048000,
      "implicitDf": true,
      "rowLimit": 10000
     },
     "inputWidgets": {},
     "nuid": "804a7fe0-9249-45a4-8162-a5c4bea9af19",
     "showTitle": false,
     "tableResultSettingsMap": {},
     "title": ""
    }
   },
   "outputs": [],
   "source": [
    "%sql\n",
    "\n",
    "CREATE TABLE IF NOT EXISTS silver.claims (\n",
    "ClaimID string,\n",
    "SRC_ClaimID string,\n",
    "TransactionID string,\n",
    "PatientID string,\n",
    "EncounterID string,\n",
    "ProviderID string,\n",
    "DeptID string,\n",
    "ServiceDate date,\n",
    "ClaimDate date,\n",
    "PayorID string,\n",
    "ClaimAmount string,\n",
    "PaidAmount string,\n",
    "ClaimStatus string,\n",
    "PayorType string,\n",
    "Deductible string,\n",
    "Coinsurance string,\n",
    "Copay string,\n",
    "SRC_InsertDate date,\n",
    "SRC_ModifiedDate date,\n",
    "datasource string,\n",
    "is_quarantined boolean,\n",
    "audit_insertdate timestamp,\n",
    "audit_modifieddate timestamp,\n",
    "is_current boolean\n",
    ")\n",
    "USING DELTA;\n",
    "\n"
   ]
  },
  {
   "cell_type": "code",
   "execution_count": 0,
   "metadata": {
    "application/vnd.databricks.v1+cell": {
     "cellMetadata": {
      "byteLimit": 2048000,
      "implicitDf": true,
      "rowLimit": 10000
     },
     "inputWidgets": {},
     "nuid": "5f1a67f7-1614-45ce-957a-d1e751fe7331",
     "showTitle": false,
     "tableResultSettingsMap": {},
     "title": ""
    }
   },
   "outputs": [],
   "source": [
    "\n",
    "%sql\n",
    "\n",
    "-- Update old record to implement SCD Type 2\n",
    "MERGE INTO silver.claims AS target\n",
    "USING quality_checks AS source\n",
    "ON target.ClaimID = source.ClaimID AND target.is_current = true\n",
    "WHEN MATCHED AND (\n",
    "    target.SRC_ClaimID != source.SRC_ClaimID OR\n",
    "    target.TransactionID != source.TransactionID OR\n",
    "    target.PatientID != source.PatientID OR\n",
    "    target.EncounterID != source.EncounterID OR\n",
    "    target.ProviderID != source.ProviderID OR\n",
    "    target.DeptID != source.DeptID OR\n",
    "    target.ServiceDate != source.ServiceDate OR\n",
    "    target.ClaimDate != source.ClaimDate OR\n",
    "    target.PayorID != source.PayorID OR\n",
    "    target.ClaimAmount != source.ClaimAmount OR\n",
    "    target.PaidAmount != source.PaidAmount OR\n",
    "    target.ClaimStatus != source.ClaimStatus OR\n",
    "    target.PayorType != source.PayorType OR\n",
    "    target.Deductible != source.Deductible OR\n",
    "    target.Coinsurance != source.Coinsurance OR\n",
    "    target.Copay != source.Copay OR\n",
    "    target.SRC_InsertDate != source.SRC_InsertDate OR\n",
    "    target.SRC_ModifiedDate != source.SRC_ModifiedDate OR\n",
    "    target.datasource != source.datasource OR\n",
    "    target.is_quarantined != source.is_quarantined\n",
    ") THEN\n",
    "  UPDATE SET\n",
    "    target.is_current = false,\n",
    "    target.audit_modifieddate = current_timestamp()\n"
   ]
  },
  {
   "cell_type": "code",
   "execution_count": 0,
   "metadata": {
    "application/vnd.databricks.v1+cell": {
     "cellMetadata": {
      "byteLimit": 2048000,
      "implicitDf": true,
      "rowLimit": 10000
     },
     "inputWidgets": {},
     "nuid": "e6f0fc6e-9a8f-468e-af92-0a9a7cdaaca3",
     "showTitle": false,
     "tableResultSettingsMap": {},
     "title": ""
    }
   },
   "outputs": [],
   "source": [
    "\n",
    "%sql\n",
    "\n",
    "-- Insert new record to implement SCD Type 2\n",
    "MERGE INTO silver.claims AS target\n",
    "USING quality_checks AS source\n",
    "ON target.ClaimID = source.ClaimID AND target.is_current = true\n",
    "WHEN NOT MATCHED THEN\n",
    "  INSERT (\n",
    "    ClaimID,\n",
    "    SRC_ClaimID,\n",
    "    TransactionID,\n",
    "    PatientID,\n",
    "    EncounterID,\n",
    "    ProviderID,\n",
    "    DeptID,\n",
    "    ServiceDate,\n",
    "    ClaimDate,\n",
    "    PayorID,\n",
    "    ClaimAmount,\n",
    "    PaidAmount,\n",
    "    ClaimStatus,\n",
    "    PayorType,\n",
    "    Deductible,\n",
    "    Coinsurance,\n",
    "    Copay,\n",
    "    SRC_InsertDate,\n",
    "    SRC_ModifiedDate,\n",
    "    datasource,\n",
    "    is_quarantined,\n",
    "    audit_insertdate,\n",
    "    audit_modifieddate,\n",
    "    is_current\n",
    "  )\n",
    "  VALUES (\n",
    "    source.ClaimID,\n",
    "    source.SRC_ClaimID,\n",
    "    source.TransactionID,\n",
    "    source.PatientID,\n",
    "    source.EncounterID,\n",
    "    source.ProviderID,\n",
    "    source.DeptID,\n",
    "    source.ServiceDate,\n",
    "    source.ClaimDate,\n",
    "    source.PayorID,\n",
    "    source.ClaimAmount,\n",
    "    source.PaidAmount,\n",
    "    source.ClaimStatus,\n",
    "    source.PayorType,\n",
    "    source.Deductible,\n",
    "    source.Coinsurance,\n",
    "    source.Copay,\n",
    "    source.SRC_InsertDate,\n",
    "    source.SRC_ModifiedDate,\n",
    "    source.datasource,\n",
    "    source.is_quarantined,\n",
    "    current_timestamp(),\n",
    "    current_timestamp(),\n",
    "    true\n",
    "  );\n",
    "\n"
   ]
  },
  {
   "cell_type": "code",
   "execution_count": 0,
   "metadata": {
    "application/vnd.databricks.v1+cell": {
     "cellMetadata": {
      "byteLimit": 2048000,
      "implicitDf": true,
      "rowLimit": 10000
     },
     "inputWidgets": {},
     "nuid": "8fa18bbd-f50e-4966-bcef-3b2848f31043",
     "showTitle": false,
     "tableResultSettingsMap": {},
     "title": ""
    }
   },
   "outputs": [],
   "source": [
    "%sql\n",
    "\n",
    "select * from  silver.claims"
   ]
  },
  {
   "cell_type": "code",
   "execution_count": 0,
   "metadata": {
    "application/vnd.databricks.v1+cell": {
     "cellMetadata": {},
     "inputWidgets": {},
     "nuid": "d493b426-af6c-403c-8b20-571556678b74",
     "showTitle": false,
     "tableResultSettingsMap": {},
     "title": ""
    }
   },
   "outputs": [],
   "source": []
  }
 ],
 "metadata": {
  "application/vnd.databricks.v1+notebook": {
   "computePreferences": null,
   "dashboards": [],
   "environmentMetadata": {
    "base_environment": "",
    "environment_version": "2"
   },
   "inputWidgetPreferences": null,
   "language": "python",
   "notebookMetadata": {
    "mostRecentlyExecutedCommandWithImplicitDF": {
     "commandId": 7250138402543686,
     "dataframes": [
      "_sqldf"
     ]
    },
    "pythonIndentUnit": 4
   },
   "notebookName": "Claims",
   "widgets": {}
  },
  "language_info": {
   "name": "python"
  }
 },
 "nbformat": 4,
 "nbformat_minor": 0
}
