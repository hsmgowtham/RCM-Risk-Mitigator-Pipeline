{
 "cells": [
  {
   "cell_type": "code",
   "execution_count": 0,
   "metadata": {
    "application/vnd.databricks.v1+cell": {
     "cellMetadata": {
      "byteLimit": 2048000,
      "implicitDf": true,
      "rowLimit": 10000
     },
     "inputWidgets": {},
     "nuid": "975a42e6-3dfb-453e-9d88-0358f997a8ef",
     "showTitle": false,
     "tableResultSettingsMap": {},
     "title": ""
    }
   },
   "outputs": [],
   "source": [
    "%sql\n",
    "\n",
    "-- Create temporary views for the parquet files\n",
    "CREATE OR REPLACE TEMP VIEW hosa_encounters\n",
    "USING parquet\n",
    "OPTIONS (\n",
    "  path \"dbfs:/mnt/bronze/hosa/encounters\"\n",
    ");\n"
   ]
  },
  {
   "cell_type": "code",
   "execution_count": 0,
   "metadata": {
    "application/vnd.databricks.v1+cell": {
     "cellMetadata": {
      "byteLimit": 2048000,
      "implicitDf": true,
      "rowLimit": 10000
     },
     "inputWidgets": {},
     "nuid": "2857f2c1-75bb-4d22-ae8f-27528b8fe4e3",
     "showTitle": false,
     "tableResultSettingsMap": {},
     "title": ""
    }
   },
   "outputs": [],
   "source": [
    "%sql\n",
    "\n",
    "CREATE OR REPLACE TEMP VIEW hosb_encounters\n",
    "USING parquet\n",
    "OPTIONS (\n",
    "  path \"dbfs:/mnt/bronze/hosb/encounters\"\n",
    ");\n"
   ]
  },
  {
   "cell_type": "code",
   "execution_count": 0,
   "metadata": {
    "application/vnd.databricks.v1+cell": {
     "cellMetadata": {
      "byteLimit": 2048000,
      "implicitDf": true,
      "rowLimit": 10000
     },
     "inputWidgets": {},
     "nuid": "9c9bec74-0c3a-4101-a336-a2d1fcc1a208",
     "showTitle": false,
     "tableResultSettingsMap": {},
     "title": ""
    }
   },
   "outputs": [],
   "source": [
    "%sql\n",
    "\n",
    "-- Union the two views\n",
    "CREATE OR REPLACE TEMP VIEW encounters AS\n",
    "SELECT * FROM hosa_encounters\n",
    "UNION ALL\n",
    "SELECT * FROM hosb_encounters;\n",
    "\n"
   ]
  },
  {
   "cell_type": "code",
   "execution_count": 0,
   "metadata": {
    "application/vnd.databricks.v1+cell": {
     "cellMetadata": {
      "byteLimit": 2048000,
      "implicitDf": true,
      "rowLimit": 10000
     },
     "inputWidgets": {},
     "nuid": "a9733b52-7399-4338-b95c-464a1c0183ec",
     "showTitle": false,
     "tableResultSettingsMap": {},
     "title": ""
    }
   },
   "outputs": [],
   "source": [
    "%sql\n",
    "\n",
    "-- Display the merged data\n",
    "SELECT * FROM encounters;\n",
    "\n"
   ]
  },
  {
   "cell_type": "code",
   "execution_count": 0,
   "metadata": {
    "application/vnd.databricks.v1+cell": {
     "cellMetadata": {
      "byteLimit": 2048000,
      "implicitDf": true,
      "rowLimit": 10000
     },
     "inputWidgets": {},
     "nuid": "e75b69dd-0d41-4a35-ba63-e86a82e3b7ef",
     "showTitle": false,
     "tableResultSettingsMap": {},
     "title": ""
    }
   },
   "outputs": [],
   "source": [
    "%sql\n",
    "\n",
    "CREATE OR REPLACE TEMP VIEW quality_checks AS\n",
    "SELECT \n",
    "concat(EncounterID,'-',datasource) as EncounterID,\n",
    "EncounterID SRC_EncounterID,\n",
    "PatientID,\n",
    "EncounterDate,\n",
    "EncounterType,\n",
    "ProviderID,\n",
    "DepartmentID,\n",
    "ProcedureCode,\n",
    "InsertedDate as SRC_InsertedDate,\n",
    "ModifiedDate as SRC_ModifiedDate,\n",
    "datasource,\n",
    "    CASE \n",
    "        WHEN EncounterID IS NULL OR PatientID IS NULL THEN TRUE\n",
    "        ELSE FALSE\n",
    "    END AS is_quarantined\n",
    "FROM encounters\n",
    "\n"
   ]
  },
  {
   "cell_type": "code",
   "execution_count": 0,
   "metadata": {
    "application/vnd.databricks.v1+cell": {
     "cellMetadata": {
      "byteLimit": 2048000,
      "implicitDf": true,
      "rowLimit": 10000
     },
     "inputWidgets": {},
     "nuid": "d90549fd-b028-4d03-a001-06c1d018796c",
     "showTitle": false,
     "tableResultSettingsMap": {},
     "title": ""
    }
   },
   "outputs": [],
   "source": [
    "%sql\n",
    "\n",
    "select * from quality_checks\n",
    "where datasource='hos-b'\n"
   ]
  },
  {
   "cell_type": "code",
   "execution_count": 0,
   "metadata": {
    "application/vnd.databricks.v1+cell": {
     "cellMetadata": {
      "byteLimit": 2048000,
      "implicitDf": true,
      "rowLimit": 10000
     },
     "inputWidgets": {},
     "nuid": "c5221acb-88b0-4139-bae5-c130f7943e1d",
     "showTitle": false,
     "tableResultSettingsMap": {},
     "title": ""
    }
   },
   "outputs": [],
   "source": [
    "%sql\n",
    "\n",
    "CREATE TABLE IF NOT EXISTS silver.encounters (\n",
    "EncounterID string,\n",
    "SRC_EncounterID string,\n",
    "PatientID string,\n",
    "EncounterDate date,\n",
    "EncounterType string,\n",
    "ProviderID string,\n",
    "DepartmentID string,\n",
    "ProcedureCode integer,\n",
    "SRC_InsertedDate date,\n",
    "SRC_ModifiedDate date,\n",
    "datasource string,\n",
    "is_quarantined boolean,\n",
    "audit_insertdate timestamp,\n",
    "audit_modifieddate timestamp,\n",
    "is_current boolean\n",
    ")\n",
    "USING DELTA;\n",
    "\n"
   ]
  },
  {
   "cell_type": "code",
   "execution_count": 0,
   "metadata": {
    "application/vnd.databricks.v1+cell": {
     "cellMetadata": {
      "byteLimit": 2048000,
      "implicitDf": true,
      "rowLimit": 10000
     },
     "inputWidgets": {},
     "nuid": "02852301-69e6-43ca-82c5-5b00486e9649",
     "showTitle": false,
     "tableResultSettingsMap": {},
     "title": ""
    }
   },
   "outputs": [],
   "source": [
    "%sql\n",
    "\n",
    "-- Update old record to implement SCD Type 2\n",
    "MERGE INTO silver.encounters AS target\n",
    "USING quality_checks AS source\n",
    "ON target.EncounterID = source.EncounterID AND target.is_current = true\n",
    "WHEN MATCHED AND (\n",
    "    target.SRC_EncounterID != source.SRC_EncounterID OR\n",
    "    target.PatientID != source.PatientID OR\n",
    "    target.EncounterDate != source.EncounterDate OR\n",
    "    target.EncounterType != source.EncounterType OR\n",
    "    target.ProviderID != source.ProviderID OR\n",
    "    target.DepartmentID != source.DepartmentID OR\n",
    "    target.ProcedureCode != source.ProcedureCode OR\n",
    "    target.SRC_InsertedDate != source.SRC_InsertedDate OR\n",
    "    target.SRC_ModifiedDate != source.SRC_ModifiedDate OR\n",
    "    target.datasource != source.datasource OR\n",
    "    target.is_quarantined != source.is_quarantined\n",
    ") THEN\n",
    "  UPDATE SET\n",
    "    target.is_current = false,\n",
    "    target.audit_modifieddate = current_timestamp()\n",
    "\n",
    "\n"
   ]
  },
  {
   "cell_type": "code",
   "execution_count": 0,
   "metadata": {
    "application/vnd.databricks.v1+cell": {
     "cellMetadata": {
      "byteLimit": 2048000,
      "implicitDf": true,
      "rowLimit": 10000
     },
     "inputWidgets": {},
     "nuid": "f7b62b86-a691-406c-a025-3f21beb02b7c",
     "showTitle": false,
     "tableResultSettingsMap": {},
     "title": ""
    }
   },
   "outputs": [],
   "source": [
    "%sql\n",
    "\n",
    "-- Insert new record to implement SCD Type 2\n",
    "MERGE INTO silver.encounters AS target USING quality_checks AS source ON target.EncounterID = source.EncounterID\n",
    "AND target.is_current = true\n",
    "WHEN NOT MATCHED THEN\n",
    "INSERT\n",
    "  (\n",
    "    EncounterID,\n",
    "    SRC_EncounterID,\n",
    "    PatientID,\n",
    "    EncounterDate,\n",
    "    EncounterType,\n",
    "    ProviderID,\n",
    "    DepartmentID,\n",
    "    ProcedureCode,\n",
    "    SRC_InsertedDate,\n",
    "    SRC_ModifiedDate,\n",
    "    datasource,\n",
    "    is_quarantined,\n",
    "    audit_insertdate,\n",
    "    audit_modifieddate,\n",
    "    is_current\n",
    "  )\n",
    "VALUES\n",
    "  (\n",
    "    source.EncounterID,\n",
    "    source.SRC_EncounterID,\n",
    "    source.PatientID,\n",
    "    source.EncounterDate,\n",
    "    source.EncounterType,\n",
    "    source.ProviderID,\n",
    "    source.DepartmentID,\n",
    "    source.ProcedureCode,\n",
    "    source.SRC_InsertedDate,\n",
    "    source.SRC_ModifiedDate,\n",
    "    source.datasource,\n",
    "    source.is_quarantined,\n",
    "    current_timestamp(),\n",
    "    current_timestamp(),\n",
    "    true\n",
    "  );\n",
    "\n"
   ]
  },
  {
   "cell_type": "code",
   "execution_count": 0,
   "metadata": {
    "application/vnd.databricks.v1+cell": {
     "cellMetadata": {
      "byteLimit": 2048000,
      "implicitDf": true,
      "rowLimit": 10000
     },
     "inputWidgets": {},
     "nuid": "04fc4f96-1ed9-4152-813c-c61f3be581e1",
     "showTitle": false,
     "tableResultSettingsMap": {},
     "title": ""
    }
   },
   "outputs": [],
   "source": [
    "%sql\n",
    "\n",
    "select SRC_EncounterID,datasource,count(patientid) from  silver.encounters\n",
    "group by all\n",
    "order by 3 desc"
   ]
  },
  {
   "cell_type": "code",
   "execution_count": 0,
   "metadata": {
    "application/vnd.databricks.v1+cell": {
     "cellMetadata": {},
     "inputWidgets": {},
     "nuid": "785dcb5f-4a88-4249-9465-3b8bb7913c76",
     "showTitle": false,
     "tableResultSettingsMap": {},
     "title": ""
    }
   },
   "outputs": [],
   "source": []
  }
 ],
 "metadata": {
  "application/vnd.databricks.v1+notebook": {
   "computePreferences": null,
   "dashboards": [],
   "environmentMetadata": {
    "base_environment": "",
    "environment_version": "2"
   },
   "inputWidgetPreferences": null,
   "language": "python",
   "notebookMetadata": {
    "mostRecentlyExecutedCommandWithImplicitDF": {
     "commandId": 7655431326545563,
     "dataframes": [
      "_sqldf"
     ]
    },
    "pythonIndentUnit": 4
   },
   "notebookName": "Encounters",
   "widgets": {}
  },
  "language_info": {
   "name": "python"
  }
 },
 "nbformat": 4,
 "nbformat_minor": 0
}
